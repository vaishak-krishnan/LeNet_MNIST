{
  "nbformat": 4,
  "nbformat_minor": 0,
  "metadata": {
    "colab": {
      "provenance": [],
      "gpuType": "T4",
      "authorship_tag": "ABX9TyNc1Ete/vu+BCskhjkqweyW",
      "include_colab_link": true
    },
    "kernelspec": {
      "name": "python3",
      "display_name": "Python 3"
    },
    "language_info": {
      "name": "python"
    },
    "accelerator": "GPU"
  },
  "cells": [
    {
      "cell_type": "markdown",
      "metadata": {
        "id": "view-in-github",
        "colab_type": "text"
      },
      "source": [
        "<a href=\"https://colab.research.google.com/github/vaishak-krishnan/LeNet_MNIST_NITK/blob/main/LeNet_MNIST_200_epochs.ipynb\" target=\"_parent\"><img src=\"https://colab.research.google.com/assets/colab-badge.svg\" alt=\"Open In Colab\"/></a>"
      ]
    },
    {
      "cell_type": "code",
      "execution_count": 2,
      "metadata": {
        "colab": {
          "base_uri": "https://localhost:8080/"
        },
        "id": "U14qGQNQBxAF",
        "outputId": "83e719ee-6136-4fa1-9cb6-503eb324f261"
      },
      "outputs": [
        {
          "output_type": "stream",
          "name": "stdout",
          "text": [
            "Num GPUs Available:  1\n"
          ]
        }
      ],
      "source": [
        "import tensorflow as tf\n",
        "from tensorflow.keras import datasets, layers, models\n",
        "import matplotlib.pyplot as plt\n",
        "\n",
        "print(\"Num GPUs Available: \", len(tf.config.list_physical_devices('GPU')))\n"
      ]
    },
    {
      "cell_type": "code",
      "source": [
        "(train_images, train_labels), (test_images, test_labels) = datasets.mnist.load_data()\n"
      ],
      "metadata": {
        "colab": {
          "base_uri": "https://localhost:8080/"
        },
        "id": "7fDWRlTSB0y0",
        "outputId": "d71c4727-18a9-4d21-bd94-1b6cc190b540"
      },
      "execution_count": 3,
      "outputs": [
        {
          "output_type": "stream",
          "name": "stdout",
          "text": [
            "Downloading data from https://storage.googleapis.com/tensorflow/tf-keras-datasets/mnist.npz\n",
            "11490434/11490434 [==============================] - 1s 0us/step\n"
          ]
        }
      ]
    },
    {
      "cell_type": "code",
      "source": [
        "train_images = train_images.reshape((60000, 28, 28, 1)).astype('float32') / 255\n",
        "test_images = test_images.reshape((10000, 28, 28, 1)).astype('float32') / 255\n"
      ],
      "metadata": {
        "id": "OPoLQY8AB5t3"
      },
      "execution_count": 4,
      "outputs": []
    },
    {
      "cell_type": "code",
      "source": [
        "def build_lenet():\n",
        "    model = models.Sequential()\n",
        "\n",
        "    # Layer 1: Convolutional + Subsampling\n",
        "    model.add(layers.Conv2D(6, (5, 5), activation='tanh', input_shape=(28, 28, 1)))\n",
        "    model.add(layers.AveragePooling2D((2, 2)))\n",
        "\n",
        "    # Layer 2: Convolutional + Subsampling\n",
        "    model.add(layers.Conv2D(16, (5, 5), activation='tanh'))\n",
        "    model.add(layers.AveragePooling2D((2, 2)))\n",
        "\n",
        "    # Layer 3: Fully Connected\n",
        "    model.add(layers.Flatten())\n",
        "    model.add(layers.Dense(120, activation='tanh'))\n",
        "\n",
        "    # Layer 4: Fully Connected\n",
        "    model.add(layers.Dense(84, activation='tanh'))\n",
        "\n",
        "    # Layer 5: Output Layer\n",
        "    model.add(layers.Dense(10, activation='softmax'))\n",
        "\n",
        "    return model\n",
        "\n",
        "model = build_lenet()\n"
      ],
      "metadata": {
        "id": "2AiQevncB-1n"
      },
      "execution_count": 5,
      "outputs": []
    },
    {
      "cell_type": "code",
      "source": [
        "model.compile(optimizer='adam',\n",
        "              loss='sparse_categorical_crossentropy',\n",
        "              metrics=['accuracy'])\n"
      ],
      "metadata": {
        "id": "hGyEgQnzCArE"
      },
      "execution_count": 6,
      "outputs": []
    },
    {
      "cell_type": "code",
      "source": [
        "history = model.fit(train_images, train_labels, epochs=200,\n",
        "                    validation_data=(test_images, test_labels))\n"
      ],
      "metadata": {
        "colab": {
          "base_uri": "https://localhost:8080/"
        },
        "id": "GWF9km4jCCcn",
        "outputId": "c153f69c-5dda-47a8-9b28-c2619657296c"
      },
      "execution_count": 7,
      "outputs": [
        {
          "output_type": "stream",
          "name": "stdout",
          "text": [
            "Epoch 1/200\n",
            "1875/1875 [==============================] - 14s 5ms/step - loss: 0.2450 - accuracy: 0.9269 - val_loss: 0.1141 - val_accuracy: 0.9656\n",
            "Epoch 2/200\n",
            "1875/1875 [==============================] - 9s 5ms/step - loss: 0.0899 - accuracy: 0.9720 - val_loss: 0.0788 - val_accuracy: 0.9739\n",
            "Epoch 3/200\n",
            "1875/1875 [==============================] - 9s 5ms/step - loss: 0.0599 - accuracy: 0.9817 - val_loss: 0.0673 - val_accuracy: 0.9779\n",
            "Epoch 4/200\n",
            "1875/1875 [==============================] - 8s 4ms/step - loss: 0.0468 - accuracy: 0.9851 - val_loss: 0.0484 - val_accuracy: 0.9841\n",
            "Epoch 5/200\n",
            "1875/1875 [==============================] - 9s 5ms/step - loss: 0.0388 - accuracy: 0.9877 - val_loss: 0.0540 - val_accuracy: 0.9838\n",
            "Epoch 6/200\n",
            "1875/1875 [==============================] - 8s 4ms/step - loss: 0.0311 - accuracy: 0.9898 - val_loss: 0.0510 - val_accuracy: 0.9838\n",
            "Epoch 7/200\n",
            "1875/1875 [==============================] - 8s 4ms/step - loss: 0.0267 - accuracy: 0.9913 - val_loss: 0.0440 - val_accuracy: 0.9865\n",
            "Epoch 8/200\n",
            "1875/1875 [==============================] - 9s 5ms/step - loss: 0.0225 - accuracy: 0.9924 - val_loss: 0.0494 - val_accuracy: 0.9854\n",
            "Epoch 9/200\n",
            "1875/1875 [==============================] - 10s 5ms/step - loss: 0.0203 - accuracy: 0.9931 - val_loss: 0.0460 - val_accuracy: 0.9863\n",
            "Epoch 10/200\n",
            "1875/1875 [==============================] - 9s 5ms/step - loss: 0.0175 - accuracy: 0.9943 - val_loss: 0.0422 - val_accuracy: 0.9877\n",
            "Epoch 11/200\n",
            "1875/1875 [==============================] - 9s 5ms/step - loss: 0.0165 - accuracy: 0.9947 - val_loss: 0.0521 - val_accuracy: 0.9843\n",
            "Epoch 12/200\n",
            "1875/1875 [==============================] - 9s 5ms/step - loss: 0.0148 - accuracy: 0.9952 - val_loss: 0.0396 - val_accuracy: 0.9880\n",
            "Epoch 13/200\n",
            "1875/1875 [==============================] - 8s 4ms/step - loss: 0.0110 - accuracy: 0.9963 - val_loss: 0.0440 - val_accuracy: 0.9876\n",
            "Epoch 14/200\n",
            "1875/1875 [==============================] - 10s 5ms/step - loss: 0.0124 - accuracy: 0.9959 - val_loss: 0.0547 - val_accuracy: 0.9843\n",
            "Epoch 15/200\n",
            "1875/1875 [==============================] - 9s 5ms/step - loss: 0.0107 - accuracy: 0.9964 - val_loss: 0.0494 - val_accuracy: 0.9861\n",
            "Epoch 16/200\n",
            "1875/1875 [==============================] - 8s 4ms/step - loss: 0.0094 - accuracy: 0.9971 - val_loss: 0.0561 - val_accuracy: 0.9858\n",
            "Epoch 17/200\n",
            "1875/1875 [==============================] - 9s 5ms/step - loss: 0.0087 - accuracy: 0.9973 - val_loss: 0.0499 - val_accuracy: 0.9853\n",
            "Epoch 18/200\n",
            "1875/1875 [==============================] - 9s 5ms/step - loss: 0.0085 - accuracy: 0.9970 - val_loss: 0.0483 - val_accuracy: 0.9876\n",
            "Epoch 19/200\n",
            "1875/1875 [==============================] - 8s 4ms/step - loss: 0.0086 - accuracy: 0.9972 - val_loss: 0.0498 - val_accuracy: 0.9873\n",
            "Epoch 20/200\n",
            "1875/1875 [==============================] - 9s 5ms/step - loss: 0.0100 - accuracy: 0.9965 - val_loss: 0.0442 - val_accuracy: 0.9879\n",
            "Epoch 21/200\n",
            "1875/1875 [==============================] - 9s 5ms/step - loss: 0.0063 - accuracy: 0.9980 - val_loss: 0.0450 - val_accuracy: 0.9876\n",
            "Epoch 22/200\n",
            "1875/1875 [==============================] - 8s 4ms/step - loss: 0.0066 - accuracy: 0.9979 - val_loss: 0.0476 - val_accuracy: 0.9859\n",
            "Epoch 23/200\n",
            "1875/1875 [==============================] - 9s 5ms/step - loss: 0.0087 - accuracy: 0.9972 - val_loss: 0.0487 - val_accuracy: 0.9871\n",
            "Epoch 24/200\n",
            "1875/1875 [==============================] - 9s 5ms/step - loss: 0.0060 - accuracy: 0.9980 - val_loss: 0.0478 - val_accuracy: 0.9880\n",
            "Epoch 25/200\n",
            "1875/1875 [==============================] - 8s 4ms/step - loss: 0.0052 - accuracy: 0.9985 - val_loss: 0.0498 - val_accuracy: 0.9890\n",
            "Epoch 26/200\n",
            "1875/1875 [==============================] - 9s 5ms/step - loss: 0.0061 - accuracy: 0.9981 - val_loss: 0.0507 - val_accuracy: 0.9882\n",
            "Epoch 27/200\n",
            "1875/1875 [==============================] - 8s 4ms/step - loss: 0.0066 - accuracy: 0.9976 - val_loss: 0.0552 - val_accuracy: 0.9881\n",
            "Epoch 28/200\n",
            "1875/1875 [==============================] - 8s 4ms/step - loss: 0.0064 - accuracy: 0.9979 - val_loss: 0.0552 - val_accuracy: 0.9861\n",
            "Epoch 29/200\n",
            "1875/1875 [==============================] - 9s 5ms/step - loss: 0.0059 - accuracy: 0.9982 - val_loss: 0.0540 - val_accuracy: 0.9883\n",
            "Epoch 30/200\n",
            "1875/1875 [==============================] - 8s 4ms/step - loss: 0.0047 - accuracy: 0.9985 - val_loss: 0.0697 - val_accuracy: 0.9842\n",
            "Epoch 31/200\n",
            "1875/1875 [==============================] - 8s 4ms/step - loss: 0.0055 - accuracy: 0.9981 - val_loss: 0.0558 - val_accuracy: 0.9862\n",
            "Epoch 32/200\n",
            "1875/1875 [==============================] - 9s 5ms/step - loss: 0.0057 - accuracy: 0.9980 - val_loss: 0.0454 - val_accuracy: 0.9887\n",
            "Epoch 33/200\n",
            "1875/1875 [==============================] - 8s 4ms/step - loss: 0.0042 - accuracy: 0.9986 - val_loss: 0.0551 - val_accuracy: 0.9875\n",
            "Epoch 34/200\n",
            "1875/1875 [==============================] - 9s 5ms/step - loss: 0.0063 - accuracy: 0.9979 - val_loss: 0.0552 - val_accuracy: 0.9879\n",
            "Epoch 35/200\n",
            "1875/1875 [==============================] - 9s 5ms/step - loss: 0.0045 - accuracy: 0.9984 - val_loss: 0.0574 - val_accuracy: 0.9875\n",
            "Epoch 36/200\n",
            "1875/1875 [==============================] - 8s 4ms/step - loss: 0.0055 - accuracy: 0.9981 - val_loss: 0.0528 - val_accuracy: 0.9888\n",
            "Epoch 37/200\n",
            "1875/1875 [==============================] - 9s 5ms/step - loss: 0.0040 - accuracy: 0.9987 - val_loss: 0.0521 - val_accuracy: 0.9880\n",
            "Epoch 38/200\n",
            "1875/1875 [==============================] - 9s 5ms/step - loss: 0.0036 - accuracy: 0.9987 - val_loss: 0.0554 - val_accuracy: 0.9881\n",
            "Epoch 39/200\n",
            "1875/1875 [==============================] - 8s 4ms/step - loss: 0.0061 - accuracy: 0.9980 - val_loss: 0.0637 - val_accuracy: 0.9870\n",
            "Epoch 40/200\n",
            "1875/1875 [==============================] - 9s 5ms/step - loss: 0.0038 - accuracy: 0.9987 - val_loss: 0.0579 - val_accuracy: 0.9874\n",
            "Epoch 41/200\n",
            "1875/1875 [==============================] - 9s 5ms/step - loss: 0.0043 - accuracy: 0.9985 - val_loss: 0.0507 - val_accuracy: 0.9878\n",
            "Epoch 42/200\n",
            "1875/1875 [==============================] - 8s 4ms/step - loss: 0.0051 - accuracy: 0.9985 - val_loss: 0.0586 - val_accuracy: 0.9873\n",
            "Epoch 43/200\n",
            "1875/1875 [==============================] - 9s 5ms/step - loss: 0.0052 - accuracy: 0.9983 - val_loss: 0.0552 - val_accuracy: 0.9883\n",
            "Epoch 44/200\n",
            "1875/1875 [==============================] - 8s 4ms/step - loss: 0.0041 - accuracy: 0.9987 - val_loss: 0.0554 - val_accuracy: 0.9871\n",
            "Epoch 45/200\n",
            "1875/1875 [==============================] - 8s 4ms/step - loss: 0.0025 - accuracy: 0.9992 - val_loss: 0.0703 - val_accuracy: 0.9854\n",
            "Epoch 46/200\n",
            "1875/1875 [==============================] - 9s 5ms/step - loss: 0.0052 - accuracy: 0.9984 - val_loss: 0.0653 - val_accuracy: 0.9869\n",
            "Epoch 47/200\n",
            "1875/1875 [==============================] - 8s 4ms/step - loss: 0.0055 - accuracy: 0.9981 - val_loss: 0.0615 - val_accuracy: 0.9877\n",
            "Epoch 48/200\n",
            "1875/1875 [==============================] - 9s 5ms/step - loss: 0.0040 - accuracy: 0.9987 - val_loss: 0.0609 - val_accuracy: 0.9881\n",
            "Epoch 49/200\n",
            "1875/1875 [==============================] - 9s 5ms/step - loss: 0.0031 - accuracy: 0.9989 - val_loss: 0.0596 - val_accuracy: 0.9871\n",
            "Epoch 50/200\n",
            "1875/1875 [==============================] - 8s 4ms/step - loss: 0.0036 - accuracy: 0.9990 - val_loss: 0.0620 - val_accuracy: 0.9864\n",
            "Epoch 51/200\n",
            "1875/1875 [==============================] - 9s 5ms/step - loss: 0.0037 - accuracy: 0.9986 - val_loss: 0.0600 - val_accuracy: 0.9878\n",
            "Epoch 52/200\n",
            "1875/1875 [==============================] - 9s 5ms/step - loss: 0.0043 - accuracy: 0.9987 - val_loss: 0.0621 - val_accuracy: 0.9868\n",
            "Epoch 53/200\n",
            "1875/1875 [==============================] - 8s 4ms/step - loss: 0.0046 - accuracy: 0.9985 - val_loss: 0.0606 - val_accuracy: 0.9871\n",
            "Epoch 54/200\n",
            "1875/1875 [==============================] - 9s 5ms/step - loss: 0.0042 - accuracy: 0.9986 - val_loss: 0.0563 - val_accuracy: 0.9878\n",
            "Epoch 55/200\n",
            "1875/1875 [==============================] - 9s 5ms/step - loss: 0.0035 - accuracy: 0.9989 - val_loss: 0.0610 - val_accuracy: 0.9885\n",
            "Epoch 56/200\n",
            "1875/1875 [==============================] - 8s 4ms/step - loss: 0.0037 - accuracy: 0.9987 - val_loss: 0.0628 - val_accuracy: 0.9876\n",
            "Epoch 57/200\n",
            "1875/1875 [==============================] - 9s 5ms/step - loss: 0.0045 - accuracy: 0.9985 - val_loss: 0.0648 - val_accuracy: 0.9867\n",
            "Epoch 58/200\n",
            "1875/1875 [==============================] - 9s 5ms/step - loss: 0.0037 - accuracy: 0.9987 - val_loss: 0.0551 - val_accuracy: 0.9881\n",
            "Epoch 59/200\n",
            "1875/1875 [==============================] - 8s 4ms/step - loss: 0.0031 - accuracy: 0.9990 - val_loss: 0.0648 - val_accuracy: 0.9867\n",
            "Epoch 60/200\n",
            "1875/1875 [==============================] - 9s 5ms/step - loss: 0.0047 - accuracy: 0.9983 - val_loss: 0.0612 - val_accuracy: 0.9878\n",
            "Epoch 61/200\n",
            "1875/1875 [==============================] - 9s 5ms/step - loss: 0.0021 - accuracy: 0.9993 - val_loss: 0.0754 - val_accuracy: 0.9858\n",
            "Epoch 62/200\n",
            "1875/1875 [==============================] - 8s 4ms/step - loss: 0.0048 - accuracy: 0.9983 - val_loss: 0.0692 - val_accuracy: 0.9866\n",
            "Epoch 63/200\n",
            "1875/1875 [==============================] - 9s 5ms/step - loss: 0.0026 - accuracy: 0.9992 - val_loss: 0.0651 - val_accuracy: 0.9871\n",
            "Epoch 64/200\n",
            "1875/1875 [==============================] - 8s 4ms/step - loss: 0.0035 - accuracy: 0.9987 - val_loss: 0.0606 - val_accuracy: 0.9873\n",
            "Epoch 65/200\n",
            "1875/1875 [==============================] - 8s 4ms/step - loss: 0.0036 - accuracy: 0.9987 - val_loss: 0.0731 - val_accuracy: 0.9861\n",
            "Epoch 66/200\n",
            "1875/1875 [==============================] - 9s 5ms/step - loss: 0.0036 - accuracy: 0.9987 - val_loss: 0.0615 - val_accuracy: 0.9881\n",
            "Epoch 67/200\n",
            "1875/1875 [==============================] - 9s 5ms/step - loss: 0.0040 - accuracy: 0.9986 - val_loss: 0.0564 - val_accuracy: 0.9878\n",
            "Epoch 68/200\n",
            "1875/1875 [==============================] - 9s 5ms/step - loss: 0.0033 - accuracy: 0.9990 - val_loss: 0.0601 - val_accuracy: 0.9883\n",
            "Epoch 69/200\n",
            "1875/1875 [==============================] - 9s 5ms/step - loss: 0.0034 - accuracy: 0.9988 - val_loss: 0.0549 - val_accuracy: 0.9885\n",
            "Epoch 70/200\n",
            "1875/1875 [==============================] - 8s 4ms/step - loss: 0.0030 - accuracy: 0.9991 - val_loss: 0.0635 - val_accuracy: 0.9869\n",
            "Epoch 71/200\n",
            "1875/1875 [==============================] - 8s 4ms/step - loss: 0.0038 - accuracy: 0.9988 - val_loss: 0.0594 - val_accuracy: 0.9881\n",
            "Epoch 72/200\n",
            "1875/1875 [==============================] - 9s 5ms/step - loss: 0.0040 - accuracy: 0.9986 - val_loss: 0.0615 - val_accuracy: 0.9866\n",
            "Epoch 73/200\n",
            "1875/1875 [==============================] - 8s 4ms/step - loss: 0.0020 - accuracy: 0.9994 - val_loss: 0.0610 - val_accuracy: 0.9876\n",
            "Epoch 74/200\n",
            "1875/1875 [==============================] - 9s 5ms/step - loss: 0.0041 - accuracy: 0.9987 - val_loss: 0.0549 - val_accuracy: 0.9888\n",
            "Epoch 75/200\n",
            "1875/1875 [==============================] - 9s 5ms/step - loss: 0.0031 - accuracy: 0.9991 - val_loss: 0.0578 - val_accuracy: 0.9886\n",
            "Epoch 76/200\n",
            "1875/1875 [==============================] - 8s 4ms/step - loss: 0.0035 - accuracy: 0.9989 - val_loss: 0.0606 - val_accuracy: 0.9878\n",
            "Epoch 77/200\n",
            "1875/1875 [==============================] - 9s 5ms/step - loss: 0.0025 - accuracy: 0.9991 - val_loss: 0.0582 - val_accuracy: 0.9883\n",
            "Epoch 78/200\n",
            "1875/1875 [==============================] - 9s 5ms/step - loss: 0.0034 - accuracy: 0.9988 - val_loss: 0.0589 - val_accuracy: 0.9886\n",
            "Epoch 79/200\n",
            "1875/1875 [==============================] - 8s 4ms/step - loss: 0.0031 - accuracy: 0.9990 - val_loss: 0.0610 - val_accuracy: 0.9876\n",
            "Epoch 80/200\n",
            "1875/1875 [==============================] - 9s 5ms/step - loss: 0.0039 - accuracy: 0.9987 - val_loss: 0.0676 - val_accuracy: 0.9871\n",
            "Epoch 81/200\n",
            "1875/1875 [==============================] - 9s 5ms/step - loss: 0.0032 - accuracy: 0.9990 - val_loss: 0.0678 - val_accuracy: 0.9880\n",
            "Epoch 82/200\n",
            "1875/1875 [==============================] - 8s 4ms/step - loss: 0.0019 - accuracy: 0.9995 - val_loss: 0.0717 - val_accuracy: 0.9869\n",
            "Epoch 83/200\n",
            "1875/1875 [==============================] - 9s 5ms/step - loss: 0.0036 - accuracy: 0.9988 - val_loss: 0.0686 - val_accuracy: 0.9875\n",
            "Epoch 84/200\n",
            "1875/1875 [==============================] - 9s 5ms/step - loss: 0.0028 - accuracy: 0.9990 - val_loss: 0.0640 - val_accuracy: 0.9875\n",
            "Epoch 85/200\n",
            "1875/1875 [==============================] - 8s 4ms/step - loss: 0.0033 - accuracy: 0.9989 - val_loss: 0.0631 - val_accuracy: 0.9881\n",
            "Epoch 86/200\n",
            "1875/1875 [==============================] - 9s 5ms/step - loss: 0.0043 - accuracy: 0.9985 - val_loss: 0.0601 - val_accuracy: 0.9886\n",
            "Epoch 87/200\n",
            "1875/1875 [==============================] - 9s 5ms/step - loss: 0.0019 - accuracy: 0.9993 - val_loss: 0.0656 - val_accuracy: 0.9890\n",
            "Epoch 88/200\n",
            "1875/1875 [==============================] - 8s 4ms/step - loss: 0.0037 - accuracy: 0.9988 - val_loss: 0.0647 - val_accuracy: 0.9878\n",
            "Epoch 89/200\n",
            "1875/1875 [==============================] - 9s 5ms/step - loss: 0.0027 - accuracy: 0.9991 - val_loss: 0.0568 - val_accuracy: 0.9894\n",
            "Epoch 90/200\n",
            "1875/1875 [==============================] - 8s 4ms/step - loss: 0.0039 - accuracy: 0.9988 - val_loss: 0.0664 - val_accuracy: 0.9863\n",
            "Epoch 91/200\n",
            "1875/1875 [==============================] - 9s 5ms/step - loss: 0.0028 - accuracy: 0.9991 - val_loss: 0.0621 - val_accuracy: 0.9874\n",
            "Epoch 92/200\n",
            "1875/1875 [==============================] - 9s 5ms/step - loss: 0.0034 - accuracy: 0.9988 - val_loss: 0.0747 - val_accuracy: 0.9859\n",
            "Epoch 93/200\n",
            "1875/1875 [==============================] - 8s 5ms/step - loss: 0.0024 - accuracy: 0.9992 - val_loss: 0.0593 - val_accuracy: 0.9888\n",
            "Epoch 94/200\n",
            "1875/1875 [==============================] - 9s 5ms/step - loss: 0.0024 - accuracy: 0.9992 - val_loss: 0.0655 - val_accuracy: 0.9884\n",
            "Epoch 95/200\n",
            "1875/1875 [==============================] - 9s 5ms/step - loss: 0.0031 - accuracy: 0.9989 - val_loss: 0.0788 - val_accuracy: 0.9862\n",
            "Epoch 96/200\n",
            "1875/1875 [==============================] - 9s 5ms/step - loss: 0.0030 - accuracy: 0.9990 - val_loss: 0.0740 - val_accuracy: 0.9873\n",
            "Epoch 97/200\n",
            "1875/1875 [==============================] - 8s 5ms/step - loss: 0.0033 - accuracy: 0.9989 - val_loss: 0.0715 - val_accuracy: 0.9862\n",
            "Epoch 98/200\n",
            "1875/1875 [==============================] - 9s 5ms/step - loss: 0.0025 - accuracy: 0.9991 - val_loss: 0.0594 - val_accuracy: 0.9887\n",
            "Epoch 99/200\n",
            "1875/1875 [==============================] - 9s 5ms/step - loss: 0.0032 - accuracy: 0.9990 - val_loss: 0.0799 - val_accuracy: 0.9865\n",
            "Epoch 100/200\n",
            "1875/1875 [==============================] - 8s 4ms/step - loss: 0.0023 - accuracy: 0.9993 - val_loss: 0.0759 - val_accuracy: 0.9875\n",
            "Epoch 101/200\n",
            "1875/1875 [==============================] - 9s 5ms/step - loss: 0.0031 - accuracy: 0.9991 - val_loss: 0.0718 - val_accuracy: 0.9885\n",
            "Epoch 102/200\n",
            "1875/1875 [==============================] - 8s 4ms/step - loss: 0.0034 - accuracy: 0.9991 - val_loss: 0.0780 - val_accuracy: 0.9865\n",
            "Epoch 103/200\n",
            "1875/1875 [==============================] - 8s 4ms/step - loss: 0.0027 - accuracy: 0.9990 - val_loss: 0.0696 - val_accuracy: 0.9881\n",
            "Epoch 104/200\n",
            "1875/1875 [==============================] - 10s 5ms/step - loss: 0.0030 - accuracy: 0.9991 - val_loss: 0.0689 - val_accuracy: 0.9883\n",
            "Epoch 105/200\n",
            "1875/1875 [==============================] - 8s 4ms/step - loss: 0.0029 - accuracy: 0.9991 - val_loss: 0.0719 - val_accuracy: 0.9880\n",
            "Epoch 106/200\n",
            "1875/1875 [==============================] - 8s 5ms/step - loss: 0.0025 - accuracy: 0.9992 - val_loss: 0.0710 - val_accuracy: 0.9882\n",
            "Epoch 107/200\n",
            "1875/1875 [==============================] - 9s 5ms/step - loss: 0.0022 - accuracy: 0.9992 - val_loss: 0.0653 - val_accuracy: 0.9882\n",
            "Epoch 108/200\n",
            "1875/1875 [==============================] - 8s 4ms/step - loss: 0.0037 - accuracy: 0.9989 - val_loss: 0.0741 - val_accuracy: 0.9864\n",
            "Epoch 109/200\n",
            "1875/1875 [==============================] - 9s 5ms/step - loss: 0.0029 - accuracy: 0.9991 - val_loss: 0.0714 - val_accuracy: 0.9879\n",
            "Epoch 110/200\n",
            "1875/1875 [==============================] - 10s 5ms/step - loss: 0.0024 - accuracy: 0.9991 - val_loss: 0.0786 - val_accuracy: 0.9868\n",
            "Epoch 111/200\n",
            "1875/1875 [==============================] - 8s 4ms/step - loss: 0.0023 - accuracy: 0.9993 - val_loss: 0.0720 - val_accuracy: 0.9875\n",
            "Epoch 112/200\n",
            "1875/1875 [==============================] - 9s 5ms/step - loss: 0.0036 - accuracy: 0.9988 - val_loss: 0.0682 - val_accuracy: 0.9877\n",
            "Epoch 113/200\n",
            "1875/1875 [==============================] - 9s 5ms/step - loss: 0.0030 - accuracy: 0.9990 - val_loss: 0.0747 - val_accuracy: 0.9870\n",
            "Epoch 114/200\n",
            "1875/1875 [==============================] - 9s 5ms/step - loss: 0.0013 - accuracy: 0.9995 - val_loss: 0.0731 - val_accuracy: 0.9883\n",
            "Epoch 115/200\n",
            "1875/1875 [==============================] - 8s 4ms/step - loss: 0.0043 - accuracy: 0.9987 - val_loss: 0.0732 - val_accuracy: 0.9886\n",
            "Epoch 116/200\n",
            "1875/1875 [==============================] - 9s 5ms/step - loss: 0.0031 - accuracy: 0.9990 - val_loss: 0.0762 - val_accuracy: 0.9871\n",
            "Epoch 117/200\n",
            "1875/1875 [==============================] - 9s 5ms/step - loss: 0.0017 - accuracy: 0.9995 - val_loss: 0.0781 - val_accuracy: 0.9891\n",
            "Epoch 118/200\n",
            "1875/1875 [==============================] - 8s 4ms/step - loss: 0.0041 - accuracy: 0.9988 - val_loss: 0.0643 - val_accuracy: 0.9894\n",
            "Epoch 119/200\n",
            "1875/1875 [==============================] - 9s 5ms/step - loss: 0.0019 - accuracy: 0.9993 - val_loss: 0.0658 - val_accuracy: 0.9886\n",
            "Epoch 120/200\n",
            "1875/1875 [==============================] - 9s 5ms/step - loss: 0.0038 - accuracy: 0.9988 - val_loss: 0.0663 - val_accuracy: 0.9883\n",
            "Epoch 121/200\n",
            "1875/1875 [==============================] - 8s 4ms/step - loss: 0.0012 - accuracy: 0.9995 - val_loss: 0.0663 - val_accuracy: 0.9885\n",
            "Epoch 122/200\n",
            "1875/1875 [==============================] - 9s 5ms/step - loss: 0.0030 - accuracy: 0.9991 - val_loss: 0.0711 - val_accuracy: 0.9874\n",
            "Epoch 123/200\n",
            "1875/1875 [==============================] - 8s 4ms/step - loss: 0.0030 - accuracy: 0.9991 - val_loss: 0.0792 - val_accuracy: 0.9874\n",
            "Epoch 124/200\n",
            "1875/1875 [==============================] - 9s 5ms/step - loss: 0.0028 - accuracy: 0.9989 - val_loss: 0.0694 - val_accuracy: 0.9883\n",
            "Epoch 125/200\n",
            "1875/1875 [==============================] - 10s 5ms/step - loss: 0.0025 - accuracy: 0.9991 - val_loss: 0.0860 - val_accuracy: 0.9864\n",
            "Epoch 126/200\n",
            "1875/1875 [==============================] - 9s 5ms/step - loss: 0.0022 - accuracy: 0.9993 - val_loss: 0.0801 - val_accuracy: 0.9863\n",
            "Epoch 127/200\n",
            "1875/1875 [==============================] - 8s 4ms/step - loss: 0.0027 - accuracy: 0.9992 - val_loss: 0.0749 - val_accuracy: 0.9879\n",
            "Epoch 128/200\n",
            "1875/1875 [==============================] - 9s 5ms/step - loss: 0.0018 - accuracy: 0.9994 - val_loss: 0.0741 - val_accuracy: 0.9881\n",
            "Epoch 129/200\n",
            "1875/1875 [==============================] - 9s 5ms/step - loss: 0.0020 - accuracy: 0.9994 - val_loss: 0.0805 - val_accuracy: 0.9874\n",
            "Epoch 130/200\n",
            "1875/1875 [==============================] - 8s 4ms/step - loss: 0.0025 - accuracy: 0.9992 - val_loss: 0.0792 - val_accuracy: 0.9878\n",
            "Epoch 131/200\n",
            "1875/1875 [==============================] - 9s 5ms/step - loss: 0.0028 - accuracy: 0.9991 - val_loss: 0.0832 - val_accuracy: 0.9867\n",
            "Epoch 132/200\n",
            "1875/1875 [==============================] - 8s 5ms/step - loss: 0.0020 - accuracy: 0.9994 - val_loss: 0.0798 - val_accuracy: 0.9880\n",
            "Epoch 133/200\n",
            "1875/1875 [==============================] - 9s 5ms/step - loss: 0.0023 - accuracy: 0.9992 - val_loss: 0.0777 - val_accuracy: 0.9868\n",
            "Epoch 134/200\n",
            "1875/1875 [==============================] - 9s 5ms/step - loss: 0.0019 - accuracy: 0.9992 - val_loss: 0.0713 - val_accuracy: 0.9886\n",
            "Epoch 135/200\n",
            "1875/1875 [==============================] - 9s 5ms/step - loss: 0.0027 - accuracy: 0.9992 - val_loss: 0.0847 - val_accuracy: 0.9862\n",
            "Epoch 136/200\n",
            "1875/1875 [==============================] - 9s 5ms/step - loss: 0.0042 - accuracy: 0.9988 - val_loss: 0.0711 - val_accuracy: 0.9876\n",
            "Epoch 137/200\n",
            "1875/1875 [==============================] - 9s 5ms/step - loss: 0.0016 - accuracy: 0.9994 - val_loss: 0.0681 - val_accuracy: 0.9884\n",
            "Epoch 138/200\n",
            "1875/1875 [==============================] - 10s 5ms/step - loss: 0.0023 - accuracy: 0.9993 - val_loss: 0.0722 - val_accuracy: 0.9877\n",
            "Epoch 139/200\n",
            "1875/1875 [==============================] - 8s 4ms/step - loss: 0.0018 - accuracy: 0.9994 - val_loss: 0.0751 - val_accuracy: 0.9865\n",
            "Epoch 140/200\n",
            "1875/1875 [==============================] - 9s 5ms/step - loss: 0.0031 - accuracy: 0.9990 - val_loss: 0.0739 - val_accuracy: 0.9872\n",
            "Epoch 141/200\n",
            "1875/1875 [==============================] - 9s 5ms/step - loss: 0.0032 - accuracy: 0.9990 - val_loss: 0.0765 - val_accuracy: 0.9878\n",
            "Epoch 142/200\n",
            "1875/1875 [==============================] - 8s 4ms/step - loss: 0.0023 - accuracy: 0.9992 - val_loss: 0.0831 - val_accuracy: 0.9863\n",
            "Epoch 143/200\n",
            "1875/1875 [==============================] - 9s 5ms/step - loss: 0.0026 - accuracy: 0.9992 - val_loss: 0.0713 - val_accuracy: 0.9887\n",
            "Epoch 144/200\n",
            "1875/1875 [==============================] - 9s 5ms/step - loss: 0.0022 - accuracy: 0.9991 - val_loss: 0.0705 - val_accuracy: 0.9880\n",
            "Epoch 145/200\n",
            "1875/1875 [==============================] - 8s 4ms/step - loss: 0.0019 - accuracy: 0.9993 - val_loss: 0.0743 - val_accuracy: 0.9884\n",
            "Epoch 146/200\n",
            "1875/1875 [==============================] - 9s 5ms/step - loss: 0.0015 - accuracy: 0.9995 - val_loss: 0.0716 - val_accuracy: 0.9873\n",
            "Epoch 147/200\n",
            "1875/1875 [==============================] - 9s 5ms/step - loss: 0.0033 - accuracy: 0.9989 - val_loss: 0.0724 - val_accuracy: 0.9875\n",
            "Epoch 148/200\n",
            "1875/1875 [==============================] - 8s 4ms/step - loss: 0.0017 - accuracy: 0.9994 - val_loss: 0.0707 - val_accuracy: 0.9871\n",
            "Epoch 149/200\n",
            "1875/1875 [==============================] - 9s 5ms/step - loss: 0.0023 - accuracy: 0.9992 - val_loss: 0.0735 - val_accuracy: 0.9879\n",
            "Epoch 150/200\n",
            "1875/1875 [==============================] - 9s 5ms/step - loss: 0.0021 - accuracy: 0.9994 - val_loss: 0.0750 - val_accuracy: 0.9866\n",
            "Epoch 151/200\n",
            "1875/1875 [==============================] - 8s 4ms/step - loss: 0.0024 - accuracy: 0.9992 - val_loss: 0.0664 - val_accuracy: 0.9885\n",
            "Epoch 152/200\n",
            "1875/1875 [==============================] - 9s 5ms/step - loss: 0.0012 - accuracy: 0.9995 - val_loss: 0.0672 - val_accuracy: 0.9890\n",
            "Epoch 153/200\n",
            "1875/1875 [==============================] - 9s 5ms/step - loss: 0.0026 - accuracy: 0.9991 - val_loss: 0.0727 - val_accuracy: 0.9875\n",
            "Epoch 154/200\n",
            "1875/1875 [==============================] - 8s 4ms/step - loss: 0.0025 - accuracy: 0.9992 - val_loss: 0.0649 - val_accuracy: 0.9884\n",
            "Epoch 155/200\n",
            "1875/1875 [==============================] - 9s 5ms/step - loss: 0.0019 - accuracy: 0.9994 - val_loss: 0.0619 - val_accuracy: 0.9890\n",
            "Epoch 156/200\n",
            "1875/1875 [==============================] - 9s 5ms/step - loss: 0.0021 - accuracy: 0.9992 - val_loss: 0.0674 - val_accuracy: 0.9879\n",
            "Epoch 157/200\n",
            "1875/1875 [==============================] - 8s 4ms/step - loss: 0.0024 - accuracy: 0.9992 - val_loss: 0.0685 - val_accuracy: 0.9889\n",
            "Epoch 158/200\n",
            "1875/1875 [==============================] - 9s 5ms/step - loss: 0.0022 - accuracy: 0.9993 - val_loss: 0.0698 - val_accuracy: 0.9889\n",
            "Epoch 159/200\n",
            "1875/1875 [==============================] - 9s 5ms/step - loss: 0.0015 - accuracy: 0.9995 - val_loss: 0.0773 - val_accuracy: 0.9876\n",
            "Epoch 160/200\n",
            "1875/1875 [==============================] - 8s 5ms/step - loss: 0.0012 - accuracy: 0.9996 - val_loss: 0.0694 - val_accuracy: 0.9885\n",
            "Epoch 161/200\n",
            "1875/1875 [==============================] - 10s 5ms/step - loss: 0.0029 - accuracy: 0.9990 - val_loss: 0.0744 - val_accuracy: 0.9878\n",
            "Epoch 162/200\n",
            "1875/1875 [==============================] - 10s 5ms/step - loss: 0.0025 - accuracy: 0.9993 - val_loss: 0.0730 - val_accuracy: 0.9883\n",
            "Epoch 163/200\n",
            "1875/1875 [==============================] - 8s 4ms/step - loss: 0.0023 - accuracy: 0.9991 - val_loss: 0.0772 - val_accuracy: 0.9876\n",
            "Epoch 164/200\n",
            "1875/1875 [==============================] - 9s 5ms/step - loss: 0.0016 - accuracy: 0.9995 - val_loss: 0.0731 - val_accuracy: 0.9878\n",
            "Epoch 165/200\n",
            "1875/1875 [==============================] - 9s 5ms/step - loss: 0.0032 - accuracy: 0.9991 - val_loss: 0.0702 - val_accuracy: 0.9870\n",
            "Epoch 166/200\n",
            "1875/1875 [==============================] - 8s 4ms/step - loss: 0.0022 - accuracy: 0.9991 - val_loss: 0.0697 - val_accuracy: 0.9878\n",
            "Epoch 167/200\n",
            "1875/1875 [==============================] - 10s 5ms/step - loss: 0.0017 - accuracy: 0.9995 - val_loss: 0.0768 - val_accuracy: 0.9872\n",
            "Epoch 168/200\n",
            "1875/1875 [==============================] - 9s 5ms/step - loss: 0.0032 - accuracy: 0.9990 - val_loss: 0.0784 - val_accuracy: 0.9879\n",
            "Epoch 169/200\n",
            "1875/1875 [==============================] - 9s 5ms/step - loss: 9.9098e-04 - accuracy: 0.9997 - val_loss: 0.0777 - val_accuracy: 0.9879\n",
            "Epoch 170/200\n",
            "1875/1875 [==============================] - 9s 5ms/step - loss: 0.0019 - accuracy: 0.9995 - val_loss: 0.0899 - val_accuracy: 0.9860\n",
            "Epoch 171/200\n",
            "1875/1875 [==============================] - 9s 5ms/step - loss: 0.0028 - accuracy: 0.9992 - val_loss: 0.1026 - val_accuracy: 0.9868\n",
            "Epoch 172/200\n",
            "1875/1875 [==============================] - 9s 5ms/step - loss: 0.0026 - accuracy: 0.9992 - val_loss: 0.0826 - val_accuracy: 0.9875\n",
            "Epoch 173/200\n",
            "1875/1875 [==============================] - 8s 4ms/step - loss: 0.0024 - accuracy: 0.9992 - val_loss: 0.0927 - val_accuracy: 0.9878\n",
            "Epoch 174/200\n",
            "1875/1875 [==============================] - 9s 5ms/step - loss: 0.0022 - accuracy: 0.9993 - val_loss: 0.0828 - val_accuracy: 0.9875\n",
            "Epoch 175/200\n",
            "1875/1875 [==============================] - 10s 5ms/step - loss: 0.0017 - accuracy: 0.9993 - val_loss: 0.0860 - val_accuracy: 0.9863\n",
            "Epoch 176/200\n",
            "1875/1875 [==============================] - 8s 4ms/step - loss: 0.0011 - accuracy: 0.9996 - val_loss: 0.0804 - val_accuracy: 0.9872\n",
            "Epoch 177/200\n",
            "1875/1875 [==============================] - 9s 5ms/step - loss: 0.0028 - accuracy: 0.9991 - val_loss: 0.0762 - val_accuracy: 0.9876\n",
            "Epoch 178/200\n",
            "1875/1875 [==============================] - 9s 5ms/step - loss: 0.0016 - accuracy: 0.9995 - val_loss: 0.0912 - val_accuracy: 0.9868\n",
            "Epoch 179/200\n",
            "1875/1875 [==============================] - 9s 5ms/step - loss: 0.0022 - accuracy: 0.9992 - val_loss: 0.0849 - val_accuracy: 0.9873\n",
            "Epoch 180/200\n",
            "1875/1875 [==============================] - 9s 5ms/step - loss: 0.0023 - accuracy: 0.9993 - val_loss: 0.0826 - val_accuracy: 0.9865\n",
            "Epoch 181/200\n",
            "1875/1875 [==============================] - 9s 5ms/step - loss: 0.0020 - accuracy: 0.9994 - val_loss: 0.0807 - val_accuracy: 0.9882\n",
            "Epoch 182/200\n",
            "1875/1875 [==============================] - 9s 5ms/step - loss: 0.0014 - accuracy: 0.9996 - val_loss: 0.0829 - val_accuracy: 0.9881\n",
            "Epoch 183/200\n",
            "1875/1875 [==============================] - 9s 5ms/step - loss: 0.0026 - accuracy: 0.9992 - val_loss: 0.0859 - val_accuracy: 0.9885\n",
            "Epoch 184/200\n",
            "1875/1875 [==============================] - 9s 5ms/step - loss: 0.0025 - accuracy: 0.9993 - val_loss: 0.0844 - val_accuracy: 0.9876\n",
            "Epoch 185/200\n",
            "1875/1875 [==============================] - 8s 5ms/step - loss: 0.0017 - accuracy: 0.9995 - val_loss: 0.0750 - val_accuracy: 0.9894\n",
            "Epoch 186/200\n",
            "1875/1875 [==============================] - 9s 5ms/step - loss: 0.0029 - accuracy: 0.9990 - val_loss: 0.0824 - val_accuracy: 0.9878\n",
            "Epoch 187/200\n",
            "1875/1875 [==============================] - 9s 5ms/step - loss: 0.0016 - accuracy: 0.9995 - val_loss: 0.0811 - val_accuracy: 0.9882\n",
            "Epoch 188/200\n",
            "1875/1875 [==============================] - 8s 4ms/step - loss: 0.0016 - accuracy: 0.9994 - val_loss: 0.0794 - val_accuracy: 0.9880\n",
            "Epoch 189/200\n",
            "1875/1875 [==============================] - 9s 5ms/step - loss: 0.0019 - accuracy: 0.9995 - val_loss: 0.0789 - val_accuracy: 0.9887\n",
            "Epoch 190/200\n",
            "1875/1875 [==============================] - 9s 5ms/step - loss: 0.0031 - accuracy: 0.9990 - val_loss: 0.0814 - val_accuracy: 0.9883\n",
            "Epoch 191/200\n",
            "1875/1875 [==============================] - 8s 4ms/step - loss: 0.0016 - accuracy: 0.9995 - val_loss: 0.0729 - val_accuracy: 0.9879\n",
            "Epoch 192/200\n",
            "1875/1875 [==============================] - 9s 5ms/step - loss: 0.0023 - accuracy: 0.9993 - val_loss: 0.0807 - val_accuracy: 0.9881\n",
            "Epoch 193/200\n",
            "1875/1875 [==============================] - 9s 5ms/step - loss: 0.0014 - accuracy: 0.9994 - val_loss: 0.0782 - val_accuracy: 0.9875\n",
            "Epoch 194/200\n",
            "1875/1875 [==============================] - 9s 5ms/step - loss: 0.0016 - accuracy: 0.9995 - val_loss: 0.0809 - val_accuracy: 0.9876\n",
            "Epoch 195/200\n",
            "1875/1875 [==============================] - 9s 5ms/step - loss: 0.0019 - accuracy: 0.9992 - val_loss: 0.0804 - val_accuracy: 0.9867\n",
            "Epoch 196/200\n",
            "1875/1875 [==============================] - 10s 5ms/step - loss: 0.0021 - accuracy: 0.9994 - val_loss: 0.0847 - val_accuracy: 0.9872\n",
            "Epoch 197/200\n",
            "1875/1875 [==============================] - 9s 5ms/step - loss: 0.0026 - accuracy: 0.9992 - val_loss: 0.0789 - val_accuracy: 0.9878\n",
            "Epoch 198/200\n",
            "1875/1875 [==============================] - 8s 4ms/step - loss: 0.0027 - accuracy: 0.9993 - val_loss: 0.0827 - val_accuracy: 0.9861\n",
            "Epoch 199/200\n",
            "1875/1875 [==============================] - 9s 5ms/step - loss: 0.0020 - accuracy: 0.9994 - val_loss: 0.0821 - val_accuracy: 0.9864\n",
            "Epoch 200/200\n",
            "1875/1875 [==============================] - 10s 5ms/step - loss: 0.0016 - accuracy: 0.9995 - val_loss: 0.0829 - val_accuracy: 0.9874\n"
          ]
        }
      ]
    },
    {
      "cell_type": "code",
      "source": [
        "test_loss, test_acc = model.evaluate(test_images, test_labels)\n",
        "print(f\"Test Accuracy: {test_acc:.4f}\")\n"
      ],
      "metadata": {
        "colab": {
          "base_uri": "https://localhost:8080/"
        },
        "id": "n0Xby7cwCEzK",
        "outputId": "c08ef842-daca-4fce-80f6-97979c48800e"
      },
      "execution_count": 8,
      "outputs": [
        {
          "output_type": "stream",
          "name": "stdout",
          "text": [
            "313/313 [==============================] - 1s 3ms/step - loss: 0.0829 - accuracy: 0.9874\n",
            "Test Accuracy: 0.9874\n"
          ]
        }
      ]
    },
    {
      "cell_type": "code",
      "source": [
        "plt.plot(history.history['accuracy'], label='accuracy')\n",
        "plt.plot(history.history['val_accuracy'], label = 'val_accuracy')\n",
        "plt.xlabel('Epoch')\n",
        "plt.ylabel('Accuracy')\n",
        "plt.ylim([0, 1])\n",
        "plt.legend(loc='lower right')\n",
        "plt.show()\n"
      ],
      "metadata": {
        "colab": {
          "base_uri": "https://localhost:8080/",
          "height": 455
        },
        "id": "ZMLngvbUCGWk",
        "outputId": "c30274ce-bae7-48bc-f6c2-75e2cc51aa99"
      },
      "execution_count": 9,
      "outputs": [
        {
          "output_type": "display_data",
          "data": {
            "text/plain": [
              "<Figure size 640x480 with 1 Axes>"
            ],
            "image/png": "[encoded data removed]"
          },
          "metadata": {}
        }
      ]
    },
    {
      "cell_type": "code",
      "source": [
        "predictions = model.predict(test_images)\n"
      ],
      "metadata": {
        "colab": {
          "base_uri": "https://localhost:8080/"
        },
        "id": "DDw_b_r-Cccd",
        "outputId": "d7b71012-c2dc-44ab-d976-43883bddc2a7"
      },
      "execution_count": 10,
      "outputs": [
        {
          "output_type": "stream",
          "name": "stdout",
          "text": [
            "313/313 [==============================] - 1s 2ms/step\n"
          ]
        }
      ]
    },
    {
      "cell_type": "code",
      "source": [
        "import numpy as np\n",
        "\n",
        "predicted_labels = np.argmax(predictions, axis=1)\n"
      ],
      "metadata": {
        "id": "b_6vJqt4Cd6d"
      },
      "execution_count": 11,
      "outputs": []
    },
    {
      "cell_type": "code",
      "source": [
        "def display_predictions(images, actual_labels, predicted_labels, num_images=10):\n",
        "    plt.figure(figsize=(10, 10))\n",
        "    for i in range(num_images):\n",
        "        plt.subplot(5, 5, i + 1)\n",
        "        plt.xticks([])\n",
        "        plt.yticks([])\n",
        "        plt.grid(False)\n",
        "        plt.imshow(images[i].reshape(28, 28), cmap=plt.cm.binary)\n",
        "        plt.xlabel(f\"Actual: {actual_labels[i]}\\nPredicted: {predicted_labels[i]}\")\n",
        "    plt.show()\n",
        "\n",
        "display_predictions(test_images, test_labels, predicted_labels)\n"
      ],
      "metadata": {
        "colab": {
          "base_uri": "https://localhost:8080/",
          "height": 364
        },
        "id": "KcF6Sb1VCfVb",
        "outputId": "598e5786-6434-442b-99ed-2757b3811479"
      },
      "execution_count": 12,
      "outputs": [
        {
          "output_type": "display_data",
          "data": {
            "text/plain": [
              "<Figure size 1000x1000 with 10 Axes>"
            ],
            "image/png": "[encoded data removed]"
          },
          "metadata": {}
        }
      ]
    }
  ]
}