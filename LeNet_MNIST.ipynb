{
  "nbformat": 4,
  "nbformat_minor": 0,
  "metadata": {
    "colab": {
      "provenance": [],
      "authorship_tag": "ABX9TyMD2Et2b70PpDGAXCYrddTK",
      "include_colab_link": true
    },
    "kernelspec": {
      "name": "python3",
      "display_name": "Python 3"
    },
    "language_info": {
      "name": "python"
    }
  },
  "cells": [
    {
      "cell_type": "markdown",
      "metadata": {
        "id": "view-in-github",
        "colab_type": "text"
      },
      "source": [
        "<a href=\"https://colab.research.google.com/github/vaishak-krishnan/LeNet_MNIST/blob/main/LeNet_MNIST.ipynb\" target=\"_parent\"><img src=\"https://colab.research.google.com/assets/colab-badge.svg\" alt=\"Open In Colab\"/></a>"
      ]
    },
    {
      "cell_type": "code",
      "source": [
        "from keras.datasets import mnist\n",
        "(X_train, y_train), (X_test, y_test) = mnist.load_data()\n",
        "print('X_train shape:', X_train.shape, 'X_test shape:', X_test.shape)\n"
      ],
      "metadata": {
        "colab": {
          "base_uri": "https://localhost:8080/"
        },
        "id": "h5oBjMDnlzTQ",
        "outputId": "ead0f51c-681b-4e48-ca9b-2862eac7b6af"
      },
      "execution_count": 8,
      "outputs": [
        {
          "output_type": "stream",
          "name": "stdout",
          "text": [
            "X_train shape: (60000, 28, 28) X_test shape: (10000, 28, 28)\n"
          ]
        }
      ]
    },
    {
      "cell_type": "code",
      "source": [
        "import matplotlib.pyplot as plt\n",
        "import random\n",
        "plt.figure(figsize = (12,5))\n",
        "for i in range(8):\n",
        "  ind = random.randint(0, len(X_train))\n",
        "  plt.subplot(240+1+i)\n",
        "  plt.imshow(X_train[ind])"
      ],
      "metadata": {
        "colab": {
          "base_uri": "https://localhost:8080/",
          "height": 397
        },
        "id": "kQhCK0ZTmKeu",
        "outputId": "042f5eea-8aa2-4634-fc33-0976175f021a"
      },
      "execution_count": 9,
      "outputs": [
        {
          "output_type": "display_data",
          "data": {
            "text/plain": [
              "<Figure size 1200x500 with 8 Axes>"
            ],
            "image/png": "[encoded data removed]"
          },
          "metadata": {}
        }
      ]
    },
    {
      "cell_type": "code",
      "source": [
        "from keras.utils import to_categorical\n",
        "def preprocess_data(X_train, y_train, X_test, y_test):\n",
        "  # reshape images to the required size of Keras\n",
        "  X_train = X_train.reshape(X_train.shape[0], X_train.shape[1], X_train.shape[2], 1)\n",
        "  X_test = X_test.reshape(X_test.shape[0], X_test.shape[1], X_test.shape[2], 1)\n",
        "\n",
        "  # convert image values from integers to floats\n",
        "  X_train = X_train.astype('float32')\n",
        "  X_test = X_test.astype('float32')\n",
        "\n",
        "  # normalization\n",
        "  X_train = X_train/255.0\n",
        "  X_test_norm = X_test/255.0\n",
        "\n",
        "  # One-hot encoding label\n",
        "  y_train = to_categorical(y_train)\n",
        "  y_test = to_categorical(y_test)\n",
        "\n",
        "  return X_train, y_train, X_test, y_test"
      ],
      "metadata": {
        "id": "NKrsbZ4zmPPz"
      },
      "execution_count": 10,
      "outputs": []
    },
    {
      "cell_type": "code",
      "source": [
        "from keras.models import Sequential\n",
        "from keras.layers import Conv2D, MaxPooling2D, Dense, Flatten\n",
        "from keras.optimizers import SGD\n",
        "from keras.losses import categorical_crossentropy\n",
        "\n",
        "def LeNet():\n",
        "    model = Sequential()\n",
        "\n",
        "    # Convolutional layer\n",
        "    model.add(Conv2D(filters=6, kernel_size=(5, 5), padding='same',\n",
        "                     activation='relu', input_shape=(28, 28, 1)))\n",
        "\n",
        "    # Max-pooling layer with pooling window size 2x2\n",
        "    model.add(MaxPooling2D(pool_size=(2, 2)))\n",
        "\n",
        "    # Convolutional layer\n",
        "    model.add(Conv2D(filters=16, kernel_size=(5, 5), activation='relu'))\n",
        "\n",
        "    # Max-pooling layer\n",
        "    model.add(MaxPooling2D(pool_size=(2, 2)))\n",
        "\n",
        "    # Flatten layer\n",
        "    model.add(Flatten())\n",
        "\n",
        "    # The first fully connected layer\n",
        "    model.add(Dense(120, activation='relu'))\n",
        "\n",
        "    # The output layer\n",
        "    model.add(Dense(10, activation='softmax'))\n",
        "\n",
        "    # Compile the model with a loss function, a metric, and an optimizer function\n",
        "    # In this case, the loss function is categorical crossentropy\n",
        "    # We use Stochastic Gradient Descent (SGD) method with learning rate lr = 0.01\n",
        "    # to optimize the loss function\n",
        "    # Metric: accuracy\n",
        "\n",
        "    opt = SGD(learning_rate=0.01)\n",
        "    model.compile(loss=categorical_crossentropy,\n",
        "                  optimizer=opt,\n",
        "                  metrics=['accuracy'])\n",
        "\n",
        "    return model\n",
        "\n",
        "LeNet_model = LeNet()\n",
        "LeNet_model.summary()\n"
      ],
      "metadata": {
        "colab": {
          "base_uri": "https://localhost:8080/"
        },
        "id": "QHkRoIDMmSml",
        "outputId": "ddd65269-2687-4c1b-da26-05b8208c571d"
      },
      "execution_count": 8,
      "outputs": [
        {
          "output_type": "stream",
          "name": "stdout",
          "text": [
            "Model: \"sequential\"\n",
            "_________________________________________________________________\n",
            " Layer (type)                Output Shape              Param #   \n",
            "=================================================================\n",
            " conv2d (Conv2D)             (None, 28, 28, 6)         156       \n",
            "                                                                 \n",
            " max_pooling2d (MaxPooling2  (None, 14, 14, 6)         0         \n",
            " D)                                                              \n",
            "                                                                 \n",
            " conv2d_1 (Conv2D)           (None, 10, 10, 16)        2416      \n",
            "                                                                 \n",
            " max_pooling2d_1 (MaxPoolin  (None, 5, 5, 16)          0         \n",
            " g2D)                                                            \n",
            "                                                                 \n",
            " flatten (Flatten)           (None, 400)               0         \n",
            "                                                                 \n",
            " dense (Dense)               (None, 120)               48120     \n",
            "                                                                 \n",
            " dense_1 (Dense)             (None, 10)                1210      \n",
            "                                                                 \n",
            "=================================================================\n",
            "Total params: 51902 (202.74 KB)\n",
            "Trainable params: 51902 (202.74 KB)\n",
            "Non-trainable params: 0 (0.00 Byte)\n",
            "_________________________________________________________________\n"
          ]
        }
      ]
    },
    {
      "cell_type": "code",
      "source": [
        "from keras.datasets import mnist\n",
        "from keras.utils import to_categorical\n",
        "from keras.callbacks import EarlyStopping\n",
        "\n",
        "# Load and preprocess the data\n",
        "(X_train, y_train), (X_test, y_test) = mnist.load_data()\n",
        "\n",
        "# Reshape the data to include the channel dimension\n",
        "X_train = X_train.reshape(X_train.shape[0], 28, 28, 1).astype('float32')\n",
        "X_test = X_test.reshape(X_test.shape[0], 28, 28, 1).astype('float32')\n",
        "\n",
        "# Normalize the pixel values to be between 0 and 1\n",
        "X_train /= 255\n",
        "X_test /= 255\n",
        "\n",
        "# Convert labels to one-hot encoding\n",
        "y_train = to_categorical(y_train, 10)\n",
        "y_test = to_categorical(y_test, 10)\n",
        "\n",
        "# Define the train_model function\n",
        "def train_model(model, X_train, y_train, X_test, y_test, epochs=10, batch_size=128):\n",
        "    # Set up early stopping to avoid overfitting\n",
        "    early_stopping = EarlyStopping(monitor='val_loss', patience=5, restore_best_weights=True)\n",
        "\n",
        "    # Train the model\n",
        "    model.fit(X_train, y_train,\n",
        "              validation_data=(X_test, y_test),\n",
        "              epochs=epochs,\n",
        "              batch_size=batch_size,\n",
        "              callbacks=[early_stopping])\n",
        "\n",
        "    # Evaluate the model on the test data\n",
        "    test_loss, test_accuracy = model.evaluate(X_test, y_test)\n",
        "    print(f'Test loss: {test_loss:.4f}')\n",
        "    print(f'Test accuracy: {test_accuracy:.4f}')\n",
        "\n",
        "# Train the model\n",
        "LeNet_model = LeNet()\n",
        "train_model(LeNet_model, X_train, y_train, X_test, y_test)\n"
      ],
      "metadata": {
        "colab": {
          "base_uri": "https://localhost:8080/"
        },
        "id": "R1FwZVs3nbyc",
        "outputId": "305a088f-e55d-4684-e75b-8651893fd604"
      },
      "execution_count": 9,
      "outputs": [
        {
          "output_type": "stream",
          "name": "stdout",
          "text": [
            "Epoch 1/10\n",
            "469/469 [==============================] - 34s 72ms/step - loss: 1.2362 - accuracy: 0.6362 - val_loss: 0.3338 - val_accuracy: 0.9041\n",
            "Epoch 2/10\n",
            "469/469 [==============================] - 36s 76ms/step - loss: 0.2804 - accuracy: 0.9172 - val_loss: 0.2122 - val_accuracy: 0.9391\n",
            "Epoch 3/10\n",
            "469/469 [==============================] - 32s 69ms/step - loss: 0.1995 - accuracy: 0.9402 - val_loss: 0.1583 - val_accuracy: 0.9540\n",
            "Epoch 4/10\n",
            "469/469 [==============================] - 33s 70ms/step - loss: 0.1581 - accuracy: 0.9535 - val_loss: 0.1405 - val_accuracy: 0.9573\n",
            "Epoch 5/10\n",
            "469/469 [==============================] - 33s 70ms/step - loss: 0.1330 - accuracy: 0.9604 - val_loss: 0.1219 - val_accuracy: 0.9643\n",
            "Epoch 6/10\n",
            "469/469 [==============================] - 33s 71ms/step - loss: 0.1164 - accuracy: 0.9646 - val_loss: 0.1064 - val_accuracy: 0.9675\n",
            "Epoch 7/10\n",
            "469/469 [==============================] - 34s 72ms/step - loss: 0.1037 - accuracy: 0.9688 - val_loss: 0.0954 - val_accuracy: 0.9716\n",
            "Epoch 8/10\n",
            "469/469 [==============================] - 32s 69ms/step - loss: 0.0941 - accuracy: 0.9716 - val_loss: 0.0821 - val_accuracy: 0.9725\n",
            "Epoch 9/10\n",
            "469/469 [==============================] - 33s 71ms/step - loss: 0.0875 - accuracy: 0.9734 - val_loss: 0.0841 - val_accuracy: 0.9739\n",
            "Epoch 10/10\n",
            "469/469 [==============================] - 33s 70ms/step - loss: 0.0804 - accuracy: 0.9754 - val_loss: 0.0681 - val_accuracy: 0.9778\n",
            "313/313 [==============================] - 3s 8ms/step - loss: 0.0681 - accuracy: 0.9778\n",
            "Test loss: 0.0681\n",
            "Test accuracy: 0.9778\n"
          ]
        }
      ]
    }
  ]
}